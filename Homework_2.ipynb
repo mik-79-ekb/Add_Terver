{
 "cells": [
  {
   "cell_type": "markdown",
   "metadata": {},
   "source": [
    "### Видеокурс по теории вероятностей и математической статистике"
   ]
  },
  {
   "cell_type": "code",
   "execution_count": 1,
   "metadata": {},
   "outputs": [],
   "source": [
    "import numpy as np"
   ]
  },
  {
   "cell_type": "markdown",
   "metadata": {},
   "source": [
    "#### Homework 2"
   ]
  },
  {
   "cell_type": "markdown",
   "metadata": {},
   "source": [
    "**Задачи 1 и 2**  \n",
    "Контрольная работа состоит из пяти вопросов. На каждый вопрос приведено четыре варианта ответа, один из которых правильный. Случайная величина X задаёт число правильных ответов при простом угадывании. Найдите математическое ожидание данной случайной величины. Найдите дисперсию случайной величины X.\n",
    "\n",
    "Подсказка: постройте закон распределения случайной величины X."
   ]
  },
  {
   "cell_type": "markdown",
   "metadata": {},
   "source": [
    "**Решение:**"
   ]
  },
  {
   "cell_type": "markdown",
   "metadata": {},
   "source": [
    "Пусть:  \n",
    "* n - количество вопросов;  \n",
    "* p - вероятность правильного ответа"
   ]
  },
  {
   "cell_type": "code",
   "execution_count": 30,
   "metadata": {},
   "outputs": [],
   "source": [
    "n = 5\n",
    "p = 1/4"
   ]
  },
  {
   "cell_type": "markdown",
   "metadata": {},
   "source": [
    "Найдем числовые характеристики мат. ожидания и дисперсии по формулам для биномиального распределения:"
   ]
  },
  {
   "cell_type": "markdown",
   "metadata": {},
   "source": [
    "$$M(X) = np, \\: D(X) = np(1 - p).$$"
   ]
  },
  {
   "cell_type": "code",
   "execution_count": 32,
   "metadata": {},
   "outputs": [
    {
     "name": "stdout",
     "output_type": "stream",
     "text": [
      "Математическое ожидание равно: 1.25\n"
     ]
    }
   ],
   "source": [
    "M = n*p\n",
    "print(f'Математическое ожидание равно: {M}')"
   ]
  },
  {
   "cell_type": "code",
   "execution_count": 34,
   "metadata": {},
   "outputs": [
    {
     "name": "stdout",
     "output_type": "stream",
     "text": [
      "Дисперсия равна: 0.9375\n"
     ]
    }
   ],
   "source": [
    "D = n*p*(1-p)\n",
    "print(f'Дисперсия равна: {D}')"
   ]
  },
  {
   "cell_type": "code",
   "execution_count": null,
   "metadata": {},
   "outputs": [],
   "source": []
  },
  {
   "cell_type": "markdown",
   "metadata": {},
   "source": [
    "**Задача 3**  \n",
    "Пользователь получает в среднем 10 писем со спамом на свой почтовый ящик за сутки. Найти число N, такое, что с вероятностью 0.95 пользователь получит не более N писем со спамом за текущий день."
   ]
  },
  {
   "cell_type": "markdown",
   "metadata": {},
   "source": [
    "**Решение:**"
   ]
  },
  {
   "cell_type": "code",
   "execution_count": 39,
   "metadata": {},
   "outputs": [],
   "source": [
    "def poisson_proba(k: int, lambda_: float) -> float:\n",
    "    \"\"\"Формула Пуассона.\n",
    "    \"\"\"\n",
    "    return (lambda_ ** k) * (np.exp(-lambda_)) / np.math.factorial(k)"
   ]
  },
  {
   "cell_type": "code",
   "execution_count": 40,
   "metadata": {},
   "outputs": [],
   "source": [
    "lambda_ = 10"
   ]
  },
  {
   "cell_type": "code",
   "execution_count": 60,
   "metadata": {},
   "outputs": [
    {
     "name": "stdout",
     "output_type": "stream",
     "text": [
      "0.951214196766259\n",
      "15\n"
     ]
    }
   ],
   "source": [
    "poisson = 0\n",
    "N = 1\n",
    "while poisson <= 0.95:\n",
    "    poisson += poisson_proba(k=N, lambda_=lambda_)\n",
    "    N += 1\n",
    "N -=1\n",
    "print(poisson)\n",
    "print(N)"
   ]
  },
  {
   "cell_type": "code",
   "execution_count": 58,
   "metadata": {},
   "outputs": [
    {
     "name": "stdout",
     "output_type": "stream",
     "text": [
      "C вероятностью 0.95 пользователь получит не более: 15 писем\n"
     ]
    }
   ],
   "source": [
    "print(f'C вероятностью 0.95 пользователь получит не более: {N} писем')"
   ]
  },
  {
   "cell_type": "code",
   "execution_count": null,
   "metadata": {},
   "outputs": [],
   "source": []
  },
  {
   "cell_type": "markdown",
   "metadata": {},
   "source": [
    "**Задача 4**  \n",
    "Производятся выстрелы по мишени. Вероятность попадания в мишень при одном выстреле равна 0.01. Сколько выстрелов нужно сделать чтобы быть уверенным с вероятностью 0.9, что хотя бы 6 раз будет совершено попадание?\n",
    "\n",
    "Подсказка:  \n",
    "1) \"Вероятность попасть k раз при n выстрелах\" - на какое распределение это похоже?  \n",
    "2) А если нам нужна вероятность P(X >= k), а не P(X = k)?  \n",
    "3) Здесь предстоит немножко покодить."
   ]
  },
  {
   "cell_type": "markdown",
   "metadata": {},
   "source": [
    "**Решение:**"
   ]
  },
  {
   "cell_type": "code",
   "execution_count": 55,
   "metadata": {},
   "outputs": [
    {
     "name": "stdout",
     "output_type": "stream",
     "text": [
      "Для попадания 6 раз необходимо выстрелить 926 раз, при этом вероятность наступления этого события составит: 0.9\n"
     ]
    }
   ],
   "source": [
    "# x  - искомая вероятность\n",
    "# p  - вероятность попадания \n",
    "# k - количество попаданий\n",
    "x = 0.9 \n",
    "p = 0.01 \n",
    "k = 6 \n",
    "n = k-1\n",
    "pn = 1\n",
    "#вычисляем количество комбинаций\n",
    "def comb_quantity(n,k):\n",
    "    return int(np.math.factorial(n)/(np.math.factorial(k)*np.math.factorial(n-k)))\n",
    "#используем формулу Бернулли  \n",
    "def binomial(n,k,p):\n",
    "    return combinations(n,k)*p**k*(1-p)**(n-k)\n",
    "while (1-pn) < x:\n",
    "    n += 1\n",
    "    pn = sum(binomial(n,i,p) for i in range(k))\n",
    "print(f'Для попадания {k} раз необходимо выстрелить {n} раз, при этом вероятность наступления этого события составит: {x}')"
   ]
  },
  {
   "cell_type": "code",
   "execution_count": null,
   "metadata": {},
   "outputs": [],
   "source": []
  }
 ],
 "metadata": {
  "kernelspec": {
   "display_name": "Python 3",
   "language": "python",
   "name": "python3"
  },
  "language_info": {
   "codemirror_mode": {
    "name": "ipython",
    "version": 3
   },
   "file_extension": ".py",
   "mimetype": "text/x-python",
   "name": "python",
   "nbconvert_exporter": "python",
   "pygments_lexer": "ipython3",
   "version": "3.8.5"
  }
 },
 "nbformat": 4,
 "nbformat_minor": 4
}
